{
 "cells": [
  {
   "cell_type": "markdown",
   "id": "e68d9593",
   "metadata": {},
   "source": [
    "# Introduction to Python\n",
    "----\n",
    "\n",
    "## Python Basics \n",
    "----\n",
    "Python has a lot of uses, the most basic one is as a *Calculator*"
   ]
  },
  {
   "cell_type": "code",
   "execution_count": null,
   "id": "5582fa79",
   "metadata": {},
   "outputs": [],
   "source": [
    "# Addition, subtraction\n",
    "print(5 + 5)\n",
    "print(5 - 5)\n",
    "\n",
    "# Multiplication, division, modulo, and exponentiation\n",
    "print(3 * 5)\n",
    "print(10 / 2)\n",
    "print(18 % 7)\n",
    "print(4 ** 2)"
   ]
  },
  {
   "cell_type": "markdown",
   "id": "6a3e3849",
   "metadata": {},
   "source": [
    "### Variables and Types\n",
    "> A **variable** allow you to store a result or a value and re use it  \n",
    "#### Most common types in Python\n",
    "- Int (integer): a number without a fractional part\n",
    "- Float (floating point): a number that has both an integer and fractional part, separated by a point  \n",
    "- Str (string): a type to represent text. \n",
    "    >***Note:*** You can use *single* or *double* quotes to build a string\n",
    "- Boolean: a type to represent logical values. Can only be ***True*** or ***False***"
   ]
  },
  {
   "cell_type": "code",
   "execution_count": 2,
   "id": "7eac5928",
   "metadata": {},
   "outputs": [
    {
     "data": {
      "text/plain": [
       "float"
      ]
     },
     "execution_count": 2,
     "metadata": {},
     "output_type": "execute_result"
    }
   ],
   "source": [
    "# To check the type of data that is stored in a variable\n",
    "weight = 57.8\n",
    "type(weight)"
   ]
  },
  {
   "cell_type": "markdown",
   "id": "07409358",
   "metadata": {},
   "source": [
    "**Note:** The operators *behave differently* for different data types"
   ]
  },
  {
   "cell_type": "code",
   "execution_count": 9,
   "id": "cf94945c",
   "metadata": {},
   "outputs": [
    {
     "name": "stdout",
     "output_type": "stream",
     "text": [
      "5\n",
      "abcd\n",
      "I said Hey Hey Hey!\n",
      "1\n"
     ]
    }
   ],
   "source": [
    "print(2 + 3)\n",
    "print('ab' + 'cd')\n",
    "print(\"I said \" + (\"Hey \" * 2) + \"Hey!\")\n",
    "print(True + False)"
   ]
  },
  {
   "cell_type": "markdown",
   "id": "9327cde0",
   "metadata": {},
   "source": [
    "To convert a ***value*** into a ***string*** use **str()**\n",
    "> Similar functions such as int(), float() and bool() will help you convert Python values into any type."
   ]
  },
  {
   "cell_type": "code",
   "execution_count": 7,
   "id": "f0232522",
   "metadata": {},
   "outputs": [
    {
     "name": "stdout",
     "output_type": "stream",
     "text": [
      "I started with $100 and now have $194.87171000000012. Awesome!\n",
      "<class 'float'>\n"
     ]
    }
   ],
   "source": [
    "# Definition of variables\n",
    "savings = 100\n",
    "result = 100 * 1.10 ** 7\n",
    "\n",
    "# Printout using the + operator\n",
    "print(\"I started with $\" + str(savings) + \" and now have $\" + str(result) + \". Awesome!\")\n",
    "\n",
    "# Definition of pi_string\n",
    "pi_string = \"3.1415926\"\n",
    "\n",
    "# Convert pi_string into float: pi_float\n",
    "pi_float = float(pi_string)\n",
    "print(type(pi_float))"
   ]
  },
  {
   "cell_type": "markdown",
   "id": "41b9c54c",
   "metadata": {},
   "source": [
    "## Python Lists\n",
    "----\n",
    "A list is a way to give a single name to a collection of values. The elements can have any type and contain diffent types (Lists can even contain lists themselves)."
   ]
  },
  {
   "cell_type": "code",
   "execution_count": null,
   "id": "1bf1ac54",
   "metadata": {},
   "outputs": [],
   "source": [
    "# Lists can have elements of different types\n",
    "fam1 = ['liz',1.73,'emma',1.68,'mom','1.71']\n",
    "\n",
    "# Lists can contain lists\n",
    "fam2 = [['liz',1.73],\n",
    "        ['emma',1.68],\n",
    "        ['mom','1.71']]\n",
    "\n",
    "# List can contain variables previously set\n",
    "# area variables (in square meters)\n",
    "hall = 11.25\n",
    "kit = 18.0\n",
    "liv = 20.0\n",
    "bed = 10.75\n",
    "bath = 9.50\n",
    "\n",
    "# Create list areas\n",
    "areas = [hall,kit,liv,bed,bath]\n",
    "    \n",
    "# Print areas\n",
    "print(areas)\n",
    "print(type(areas))"
   ]
  },
  {
   "cell_type": "markdown",
   "id": "dc907cb3",
   "metadata": {},
   "source": [
    "### Subsetting lists\n",
    "\n",
    "#### Indexing\n",
    "To select an element from a list we use the *index* \n",
    "> - The first element in the list has index 0  \n",
    "> - if we use negative numbers insted, we will select the last elements in the list\n",
    "\n"
   ]
  },
  {
   "cell_type": "code",
   "execution_count": null,
   "id": "814f9ec9",
   "metadata": {},
   "outputs": [],
   "source": [
    "# Create the areas list\n",
    "areas = [\"hallway\", 11.25, \"kitchen\", 18.0, \"living room\", 20.0, \"bedroom\", 10.75, \"bathroom\", 9.50]\n",
    "\n",
    "# Print out second element from areas\n",
    "print(areas[1])\n",
    "\n",
    "# Print out last element from areas\n",
    "print(areas[-1])\n",
    "\n",
    "# Print out the area of the living room\n",
    "print(areas[5])"
   ]
  },
  {
   "cell_type": "code",
   "execution_count": null,
   "id": "580a1cf8",
   "metadata": {},
   "outputs": [],
   "source": [
    "# Subset and calculate\n",
    "# Create the areas list\n",
    "areas = [\"hallway\", 11.25, \"kitchen\", 18.0, \"living room\", 20.0, \"bedroom\", 10.75, \"bathroom\", 9.50]\n",
    "\n",
    "# Sum of kitchen and bedroom area: eat_sleep_area\n",
    "eat_sleep_area = (areas[3] + areas[-3])\n",
    "\n",
    "# Print the variable eat_sleep_area\n",
    "print(eat_sleep_area)"
   ]
  },
  {
   "cell_type": "markdown",
   "id": "0e7da2b2",
   "metadata": {},
   "source": [
    "To subset ***lists of lists***, you can use the same technique as before: square brackets."
   ]
  },
  {
   "cell_type": "code",
   "execution_count": null,
   "id": "90ab321d",
   "metadata": {},
   "outputs": [],
   "source": [
    "x = [[\"a\", \"b\", \"c\"],\n",
    "     [\"d\", \"e\", \"f\"],\n",
    "     [\"g\", \"h\", \"i\"]]\n",
    "x[2][0]\n",
    "x[2][:2]\n",
    "\n",
    "# x[2] results in a list, that you can subset again by adding additional square brackets."
   ]
  },
  {
   "cell_type": "markdown",
   "id": "82c17e98",
   "metadata": {},
   "source": [
    "### List Slicing\n",
    "Creating a new list by selecting some elements from an existing list.\n",
    "\n",
    "This is the sintaxis for slicing\n",
    "***[ start : end ]***\n",
    "\n",
    ">The index that is set in the start ***will be included*** in the new list. The index that is set in the end is ***excluded***. \n",
    "> - If nothing is specified in the ***start***, elements will be selected starting from index 0\n",
    "> - If nothing is specified in the ***end***, elements will be selected until the last item of the list"
   ]
  },
  {
   "cell_type": "code",
   "execution_count": null,
   "id": "2961da7d",
   "metadata": {},
   "outputs": [],
   "source": [
    "# Create the areas list\n",
    "areas = [\"hallway\", 11.25, \"kitchen\", 18.0, \"living room\", 20.0, \"bedroom\", 10.75, \"bathroom\", 9.50]\n",
    "\n",
    "# Use slicing to select first 6 elements\n",
    "downstairs= areas[:6]\n",
    "\n",
    "# Use slicing to select last 4 elements\n",
    "upstairs = areas[6:]\n",
    "\n",
    "# Print out downstairs and upstairs\n",
    "print(downstairs)\n",
    "print(upstairs)"
   ]
  },
  {
   "cell_type": "markdown",
   "id": "71d46563",
   "metadata": {},
   "source": [
    "### Manipulating Lists\n",
    "\n",
    "#### Replace list elements\n",
    "Subset the list and assign new values to the subset. You can select single elements or you can change entire list slices at once."
   ]
  },
  {
   "cell_type": "code",
   "execution_count": null,
   "id": "6a7e3267",
   "metadata": {},
   "outputs": [],
   "source": [
    "x = [\"a\", \"b\", \"c\", \"d\"]\n",
    "\n",
    "# To replace a single value from a list (result: ['a', 'r', 'c', 'd'])\n",
    "x[1] = \"r\"\n",
    "\n",
    "# To replace multiple elements from a list (result: ['a', 'r', 's', 't'])\n",
    "x[2:] = [\"s\", \"t\"]"
   ]
  },
  {
   "cell_type": "markdown",
   "id": "db1871e4",
   "metadata": {},
   "source": [
    "#### Extend a list\n",
    "To add elements to a list use the + operator:"
   ]
  },
  {
   "cell_type": "code",
   "execution_count": 3,
   "id": "cdd3aedc",
   "metadata": {},
   "outputs": [
    {
     "name": "stdout",
     "output_type": "stream",
     "text": [
      "['a', 'b', 'c', 'd', 'e', 'f']\n"
     ]
    }
   ],
   "source": [
    "x = [\"a\", \"b\", \"c\", \"d\"]\n",
    "y = x + [\"e\", \"f\"]\n",
    "print(y)"
   ]
  },
  {
   "cell_type": "markdown",
   "id": "ea4b8bba",
   "metadata": {},
   "source": [
    "#### Delete list elements\n",
    "To remove elements from a list you can use the ***del*** statement."
   ]
  },
  {
   "cell_type": "code",
   "execution_count": null,
   "id": "861ddf38",
   "metadata": {},
   "outputs": [],
   "source": [
    "areas = [\"hallway\", 11.25, \"kitchen\", 18.0,\n",
    "        \"chill zone\", 20.0, \"bedroom\", 10.75,\n",
    "         \"bathroom\", 10.50, \"poolhouse\", 24.5,\n",
    "         \"garage\", 15.45]\n",
    "\n",
    "# To delete \"poolhouse\" and 24.5 we will use the following command\n",
    "del(areas[-4:-2])\n",
    "\n",
    "#The ; sign is used to place commands on the same line. The following two code chunks are equivalent:\n",
    "del(areas[10]); del(areas[11])\n",
    "\n",
    "del(areas[10]) \n",
    "del(areas[11])"
   ]
  },
  {
   "cell_type": "markdown",
   "id": "6cf977a5",
   "metadata": {},
   "source": [
    "#### Important consideration - Inner working of list\n",
    "Consider the following example:"
   ]
  },
  {
   "cell_type": "code",
   "execution_count": null,
   "id": "ab2bcd74",
   "metadata": {},
   "outputs": [],
   "source": [
    "# Create list areas\n",
    "areas = [11.25, 18.0, 20.0, 10.75, 9.50]\n",
    "\n",
    "# Create areas_copy\n",
    "areas_copy = areas\n",
    "\n",
    "# Change areas_copy\n",
    "areas_copy[0] = 5.0\n",
    "\n",
    "# Print areas\n",
    "print(areas)"
   ]
  },
  {
   "cell_type": "markdown",
   "id": "a566e7cf",
   "metadata": {},
   "source": [
    "In the previous example, the first element in the areas_copy list is changed and the areas list is printed out. Although you've changed areas_copy, the change also takes effect in the areas list. That's because ***areas and areas_copy point to the same list***.\n",
    "\n",
    "If you want to prevent changes in areas_copy from also taking effect in areas, you'll have to do a more explicit copy of the areas list. You can do this with ***list()*** or by using ***[:]***."
   ]
  },
  {
   "cell_type": "markdown",
   "id": "2d942335",
   "metadata": {},
   "source": [
    "## Functions and Packages\n",
    "----\n"
   ]
  },
  {
   "cell_type": "code",
   "execution_count": null,
   "id": "72cdb167",
   "metadata": {},
   "outputs": [],
   "source": []
  }
 ],
 "metadata": {
  "kernelspec": {
   "display_name": "Python 3 (ipykernel)",
   "language": "python",
   "name": "python3"
  },
  "language_info": {
   "codemirror_mode": {
    "name": "ipython",
    "version": 3
   },
   "file_extension": ".py",
   "mimetype": "text/x-python",
   "name": "python",
   "nbconvert_exporter": "python",
   "pygments_lexer": "ipython3",
   "version": "3.9.12"
  }
 },
 "nbformat": 4,
 "nbformat_minor": 5
}
