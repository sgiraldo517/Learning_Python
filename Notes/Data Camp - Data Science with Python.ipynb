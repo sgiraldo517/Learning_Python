{
 "cells": [
  {
   "cell_type": "markdown",
   "id": "e68d9593",
   "metadata": {},
   "source": [
    "# Data Camp - Data Science with Python\n",
    "\n",
    "## Introduction to Python\n",
    "----\n",
    "\n",
    "### Python Basics \n",
    "Python has a lot of uses, the most basic one is as a *Calculator*"
   ]
  },
  {
   "cell_type": "code",
   "execution_count": null,
   "id": "5582fa79",
   "metadata": {},
   "outputs": [],
   "source": [
    "# Addition, subtraction\n",
    "print(5 + 5)\n",
    "print(5 - 5)\n",
    "\n",
    "# Multiplication, division, modulo, and exponentiation\n",
    "print(3 * 5)\n",
    "print(10 / 2)\n",
    "print(18 % 7)\n",
    "print(4 ** 2)"
   ]
  },
  {
   "cell_type": "markdown",
   "id": "6a3e3849",
   "metadata": {},
   "source": [
    "### Variables and Types\n",
    "> A **variable** allow you to store a result or a value and re use it  \n",
    "#### Most common types in Python\n",
    "- Int (integer): a number without a fractional part\n",
    "- Float (floating point): a number that has both an integer and fractional part, separated by a point  \n",
    "- Str (string): a type to represent text. \n",
    "    >***Note:*** You can use *single* or *double* quotes to build a string\n",
    "- Boolean: a type to represent logical values. Can only be ***True*** or ***False***"
   ]
  },
  {
   "cell_type": "code",
   "execution_count": 2,
   "id": "7eac5928",
   "metadata": {},
   "outputs": [
    {
     "data": {
      "text/plain": [
       "float"
      ]
     },
     "execution_count": 2,
     "metadata": {},
     "output_type": "execute_result"
    }
   ],
   "source": [
    "# To check the type of data that is stored in a variable\n",
    "weight = 57.8\n",
    "type(weight)"
   ]
  },
  {
   "cell_type": "markdown",
   "id": "07409358",
   "metadata": {},
   "source": [
    "**Note:** The operators *behave differently* for different data types"
   ]
  },
  {
   "cell_type": "code",
   "execution_count": 9,
   "id": "cf94945c",
   "metadata": {},
   "outputs": [
    {
     "name": "stdout",
     "output_type": "stream",
     "text": [
      "5\n",
      "abcd\n",
      "I said Hey Hey Hey!\n",
      "1\n"
     ]
    }
   ],
   "source": [
    "print(2 + 3)\n",
    "print('ab' + 'cd')\n",
    "print(\"I said \" + (\"Hey \" * 2) + \"Hey!\")\n",
    "print(True + False)"
   ]
  },
  {
   "cell_type": "markdown",
   "id": "9327cde0",
   "metadata": {},
   "source": [
    "To convert a ***value*** into a ***string*** use **str()**\n",
    "> Similar functions such as int(), float() and bool() will help you convert Python values into any type."
   ]
  },
  {
   "cell_type": "code",
   "execution_count": 7,
   "id": "f0232522",
   "metadata": {},
   "outputs": [
    {
     "name": "stdout",
     "output_type": "stream",
     "text": [
      "I started with $100 and now have $194.87171000000012. Awesome!\n",
      "<class 'float'>\n"
     ]
    }
   ],
   "source": [
    "# Definition of variables\n",
    "savings = 100\n",
    "result = 100 * 1.10 ** 7\n",
    "\n",
    "# Printout using the + operator\n",
    "print(\"I started with $\" + str(savings) + \" and now have $\" + str(result) + \". Awesome!\")\n",
    "\n",
    "# Definition of pi_string\n",
    "pi_string = \"3.1415926\"\n",
    "\n",
    "# Convert pi_string into float: pi_float\n",
    "pi_float = float(pi_string)\n",
    "print(type(pi_float))"
   ]
  },
  {
   "cell_type": "markdown",
   "id": "41b9c54c",
   "metadata": {},
   "source": [
    "## Python Lists\n",
    "----\n",
    "A list is a way to give a single name to a collection of values. The elements can have any type"
   ]
  },
  {
   "cell_type": "code",
   "execution_count": null,
   "id": "1bf1ac54",
   "metadata": {},
   "outputs": [],
   "source": []
  }
 ],
 "metadata": {
  "kernelspec": {
   "display_name": "Python 3 (ipykernel)",
   "language": "python",
   "name": "python3"
  },
  "language_info": {
   "codemirror_mode": {
    "name": "ipython",
    "version": 3
   },
   "file_extension": ".py",
   "mimetype": "text/x-python",
   "name": "python",
   "nbconvert_exporter": "python",
   "pygments_lexer": "ipython3",
   "version": "3.9.12"
  }
 },
 "nbformat": 4,
 "nbformat_minor": 5
}
