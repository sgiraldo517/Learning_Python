{
 "cells": [
  {
   "cell_type": "markdown",
   "id": "e68d9593",
   "metadata": {},
   "source": [
    "# Introduction to Python\n",
    "----\n",
    "\n",
    "## Python Basics \n",
    "----\n",
    "Python has a lot of uses, the most basic one is as a *Calculator*"
   ]
  },
  {
   "cell_type": "code",
   "execution_count": null,
   "id": "5582fa79",
   "metadata": {},
   "outputs": [],
   "source": [
    "# Addition, subtraction\n",
    "print(5 + 5)\n",
    "print(5 - 5)\n",
    "\n",
    "# Multiplication, division, modulo, and exponentiation\n",
    "print(3 * 5)\n",
    "print(10 / 2)\n",
    "print(18 % 7)\n",
    "print(4 ** 2)"
   ]
  },
  {
   "cell_type": "markdown",
   "id": "6a3e3849",
   "metadata": {},
   "source": [
    "### Variables and Types\n",
    "> A **variable** allow you to store a result or a value and re use it  \n",
    "#### Most common types in Python\n",
    "- Int (integer): a number without a fractional part\n",
    "- Float (floating point): a number that has both an integer and fractional part, separated by a point  \n",
    "- Str (string): a type to represent text. \n",
    "    >***Note:*** You can use *single* or *double* quotes to build a string\n",
    "- Boolean: a type to represent logical values. Can only be ***True*** or ***False***"
   ]
  },
  {
   "cell_type": "code",
   "execution_count": 2,
   "id": "7eac5928",
   "metadata": {},
   "outputs": [
    {
     "data": {
      "text/plain": [
       "float"
      ]
     },
     "execution_count": 2,
     "metadata": {},
     "output_type": "execute_result"
    }
   ],
   "source": [
    "# To check the type of data that is stored in a variable\n",
    "weight = 57.8\n",
    "type(weight)"
   ]
  },
  {
   "cell_type": "markdown",
   "id": "07409358",
   "metadata": {},
   "source": [
    "**Note:** The operators *behave differently* for different data types"
   ]
  },
  {
   "cell_type": "code",
   "execution_count": 9,
   "id": "cf94945c",
   "metadata": {},
   "outputs": [
    {
     "name": "stdout",
     "output_type": "stream",
     "text": [
      "5\n",
      "abcd\n",
      "I said Hey Hey Hey!\n",
      "1\n"
     ]
    }
   ],
   "source": [
    "print(2 + 3)\n",
    "print('ab' + 'cd')\n",
    "print(\"I said \" + (\"Hey \" * 2) + \"Hey!\")\n",
    "print(True + False)"
   ]
  },
  {
   "cell_type": "markdown",
   "id": "9327cde0",
   "metadata": {},
   "source": [
    "To convert a ***value*** into a ***string*** use **str()**\n",
    "> Similar functions such as int(), float() and bool() will help you convert Python values into any type."
   ]
  },
  {
   "cell_type": "code",
   "execution_count": 7,
   "id": "f0232522",
   "metadata": {},
   "outputs": [
    {
     "name": "stdout",
     "output_type": "stream",
     "text": [
      "I started with $100 and now have $194.87171000000012. Awesome!\n",
      "<class 'float'>\n"
     ]
    }
   ],
   "source": [
    "# Definition of variables\n",
    "savings = 100\n",
    "result = 100 * 1.10 ** 7\n",
    "\n",
    "# Printout using the + operator\n",
    "print(\"I started with $\" + str(savings) + \" and now have $\" + str(result) + \". Awesome!\")\n",
    "\n",
    "# Definition of pi_string\n",
    "pi_string = \"3.1415926\"\n",
    "\n",
    "# Convert pi_string into float: pi_float\n",
    "pi_float = float(pi_string)\n",
    "print(type(pi_float))"
   ]
  },
  {
   "cell_type": "markdown",
   "id": "41b9c54c",
   "metadata": {},
   "source": [
    "## Python Lists\n",
    "----\n",
    "A list is a way to give a single name to a collection of values. The elements can have any type and contain diffent types (Lists can even contain lists themselves)."
   ]
  },
  {
   "cell_type": "code",
   "execution_count": null,
   "id": "1bf1ac54",
   "metadata": {},
   "outputs": [],
   "source": [
    "# Lists can have elements of different types\n",
    "fam1 = ['liz',1.73,'emma',1.68,'mom','1.71']\n",
    "\n",
    "# Lists can contain lists\n",
    "fam2 = [['liz',1.73],\n",
    "        ['emma',1.68],\n",
    "        ['mom','1.71']]\n",
    "\n",
    "# List can contain variables previously set\n",
    "# area variables (in square meters)\n",
    "hall = 11.25\n",
    "kit = 18.0\n",
    "liv = 20.0\n",
    "bed = 10.75\n",
    "bath = 9.50\n",
    "\n",
    "# Create list areas\n",
    "areas = [hall,kit,liv,bed,bath]\n",
    "    \n",
    "# Print areas\n",
    "print(areas)\n",
    "print(type(areas))"
   ]
  },
  {
   "cell_type": "markdown",
   "id": "dc907cb3",
   "metadata": {},
   "source": [
    "### Subsetting lists\n",
    "\n",
    "#### Indexing\n",
    "To select an element from a list we use the *index* \n",
    "> - The first element in the list has index 0  \n",
    "> - if we use negative numbers insted, we will select the last elements in the list\n",
    "\n"
   ]
  },
  {
   "cell_type": "code",
   "execution_count": null,
   "id": "814f9ec9",
   "metadata": {},
   "outputs": [],
   "source": [
    "# Create the areas list\n",
    "areas = [\"hallway\", 11.25, \"kitchen\", 18.0, \"living room\", 20.0, \"bedroom\", 10.75, \"bathroom\", 9.50]\n",
    "\n",
    "# Print out second element from areas\n",
    "print(areas[1])\n",
    "\n",
    "# Print out last element from areas\n",
    "print(areas[-1])\n",
    "\n",
    "# Print out the area of the living room\n",
    "print(areas[5])"
   ]
  },
  {
   "cell_type": "code",
   "execution_count": null,
   "id": "580a1cf8",
   "metadata": {},
   "outputs": [],
   "source": [
    "# Subset and calculate\n",
    "# Create the areas list\n",
    "areas = [\"hallway\", 11.25, \"kitchen\", 18.0, \"living room\", 20.0, \"bedroom\", 10.75, \"bathroom\", 9.50]\n",
    "\n",
    "# Sum of kitchen and bedroom area: eat_sleep_area\n",
    "eat_sleep_area = (areas[3] + areas[-3])\n",
    "\n",
    "# Print the variable eat_sleep_area\n",
    "print(eat_sleep_area)"
   ]
  },
  {
   "cell_type": "markdown",
   "id": "0e7da2b2",
   "metadata": {},
   "source": [
    "To subset ***lists of lists***, you can use the same technique as before: square brackets."
   ]
  },
  {
   "cell_type": "code",
   "execution_count": null,
   "id": "90ab321d",
   "metadata": {},
   "outputs": [],
   "source": [
    "x = [[\"a\", \"b\", \"c\"],\n",
    "     [\"d\", \"e\", \"f\"],\n",
    "     [\"g\", \"h\", \"i\"]]\n",
    "x[2][0]\n",
    "x[2][:2]\n",
    "\n",
    "# x[2] results in a list, that you can subset again by adding additional square brackets."
   ]
  },
  {
   "cell_type": "markdown",
   "id": "82c17e98",
   "metadata": {},
   "source": [
    "### List Slicing\n",
    "Creating a new list by selecting some elements from an existing list.\n",
    "\n",
    "This is the sintaxis for slicing\n",
    "***[ start : end ]***\n",
    "\n",
    ">The index that is set in the start ***will be included*** in the new list. The index that is set in the end is ***excluded***. \n",
    "> - If nothing is specified in the ***start***, elements will be selected starting from index 0\n",
    "> - If nothing is specified in the ***end***, elements will be selected until the last item of the list"
   ]
  },
  {
   "cell_type": "code",
   "execution_count": null,
   "id": "2961da7d",
   "metadata": {},
   "outputs": [],
   "source": [
    "# Create the areas list\n",
    "areas = [\"hallway\", 11.25, \"kitchen\", 18.0, \"living room\", 20.0, \"bedroom\", 10.75, \"bathroom\", 9.50]\n",
    "\n",
    "# Use slicing to select first 6 elements\n",
    "downstairs= areas[:6]\n",
    "\n",
    "# Use slicing to select last 4 elements\n",
    "upstairs = areas[6:]\n",
    "\n",
    "# Print out downstairs and upstairs\n",
    "print(downstairs)\n",
    "print(upstairs)"
   ]
  },
  {
   "cell_type": "markdown",
   "id": "71d46563",
   "metadata": {},
   "source": [
    "### Manipulating Lists\n",
    "\n",
    "#### Replace list elements\n",
    "Subset the list and assign new values to the subset. You can select single elements or you can change entire list slices at once."
   ]
  },
  {
   "cell_type": "code",
   "execution_count": null,
   "id": "6a7e3267",
   "metadata": {},
   "outputs": [],
   "source": [
    "x = [\"a\", \"b\", \"c\", \"d\"]\n",
    "\n",
    "# To replace a single value from a list (result: ['a', 'r', 'c', 'd'])\n",
    "x[1] = \"r\"\n",
    "\n",
    "# To replace multiple elements from a list (result: ['a', 'r', 's', 't'])\n",
    "x[2:] = [\"s\", \"t\"]"
   ]
  },
  {
   "cell_type": "markdown",
   "id": "db1871e4",
   "metadata": {},
   "source": [
    "#### Extend a list\n",
    "To add elements to a list use the + operator:"
   ]
  },
  {
   "cell_type": "code",
   "execution_count": 3,
   "id": "cdd3aedc",
   "metadata": {},
   "outputs": [
    {
     "name": "stdout",
     "output_type": "stream",
     "text": [
      "['a', 'b', 'c', 'd', 'e', 'f']\n"
     ]
    }
   ],
   "source": [
    "x = [\"a\", \"b\", \"c\", \"d\"]\n",
    "y = x + [\"e\", \"f\"]\n",
    "print(y)"
   ]
  },
  {
   "cell_type": "markdown",
   "id": "ea4b8bba",
   "metadata": {},
   "source": [
    "#### Delete list elements\n",
    "To remove elements from a list you can use the ***del*** statement."
   ]
  },
  {
   "cell_type": "code",
   "execution_count": null,
   "id": "861ddf38",
   "metadata": {},
   "outputs": [],
   "source": [
    "areas = [\"hallway\", 11.25, \"kitchen\", 18.0,\n",
    "        \"chill zone\", 20.0, \"bedroom\", 10.75,\n",
    "         \"bathroom\", 10.50, \"poolhouse\", 24.5,\n",
    "         \"garage\", 15.45]\n",
    "\n",
    "# To delete \"poolhouse\" and 24.5 we will use the following command\n",
    "del(areas[-4:-2])\n",
    "\n",
    "#The ; sign is used to place commands on the same line. The following two code chunks are equivalent:\n",
    "del(areas[10]); del(areas[11])\n",
    "\n",
    "del(areas[10]) \n",
    "del(areas[11])"
   ]
  },
  {
   "cell_type": "markdown",
   "id": "6cf977a5",
   "metadata": {},
   "source": [
    "#### Important consideration - Inner working of list\n",
    "Consider the following example:"
   ]
  },
  {
   "cell_type": "code",
   "execution_count": 6,
   "id": "ab2bcd74",
   "metadata": {},
   "outputs": [
    {
     "name": "stdout",
     "output_type": "stream",
     "text": [
      "[5.0, 18.0, 20.57, 10.75, 9.5]\n"
     ]
    }
   ],
   "source": [
    "# Create list areas\n",
    "areas = [11.25, 18.0, 20.57, 10.75, 9.50]\n",
    "\n",
    "# Create areas_copy\n",
    "areas_copy = areas\n",
    "\n",
    "# Change areas_copy\n",
    "areas_copy[0] = 5.0\n",
    "\n",
    "# Print areas\n",
    "print(areas)"
   ]
  },
  {
   "cell_type": "markdown",
   "id": "a566e7cf",
   "metadata": {},
   "source": [
    "In the previous example, the first element in the areas_copy list is changed and the areas list is printed out. Although you've changed areas_copy, the change also takes effect in the areas list. That's because ***areas and areas_copy point to the same list***.\n",
    "\n",
    "If you want to prevent changes in areas_copy from also taking effect in areas, you'll have to do a more explicit copy of the areas list. You can do this with ***list()*** or by using ***[:]***."
   ]
  },
  {
   "cell_type": "markdown",
   "id": "2d942335",
   "metadata": {},
   "source": [
    "## Functions and Packages\n",
    "----\n"
   ]
  },
  {
   "cell_type": "markdown",
   "id": "38b693bc-15d5-4fbe-95c5-d5a25c64b660",
   "metadata": {},
   "source": [
    "### Function\n",
    "Piece of reusable code that solves a particular task. The result of a function can be asigned to a variable. The general recipe for calling functions and saving the result to a variable is thus:\n",
    "> *output = function_name(input)*"
   ]
  },
  {
   "cell_type": "code",
   "execution_count": 17,
   "id": "5d47577f-3677-447e-8067-66086411747f",
   "metadata": {},
   "outputs": [
    {
     "name": "stdout",
     "output_type": "stream",
     "text": [
      "[5.0, 18.0, 20.57, 10.75, 9.5]\n",
      "<class 'list'>\n",
      "<class 'int'>\n",
      "<class 'str'>\n",
      "5\n"
     ]
    }
   ],
   "source": [
    "# Examples of functions\n",
    "\n",
    "# Print will print the result of the command or fuction executed.\n",
    "print(areas)\n",
    "\n",
    "# Max fuction will identify the max value.\n",
    "biggest = max(areas)\n",
    "\n",
    "# Type funtion will tell you the type of a variable.\n",
    "print(type(areas))\n",
    "\n",
    "# Round will round your result to the closest integer. The number of decimal can be adjusted in the second paramenter. \n",
    "var1 = round(biggest)\n",
    "print(type(var1))\n",
    "\n",
    "# str(), int(), bool() and float() let you to switch between data types.\n",
    "print(type(str(var1)))\n",
    "\n",
    "# Use len() to get the length of the list\n",
    "print(len(areas))\n",
    "\n",
    "# pow() let you calculate the power of a number"
   ]
  },
  {
   "cell_type": "code",
   "execution_count": 8,
   "id": "e833d7fc-404c-45d7-b946-4de5f6bcdb2f",
   "metadata": {},
   "outputs": [
    {
     "name": "stdout",
     "output_type": "stream",
     "text": [
      "Help on built-in function round in module builtins:\n",
      "\n",
      "round(number, ndigits=None)\n",
      "    Round a number to a given precision in decimal digits.\n",
      "    \n",
      "    The return value is an integer if ndigits is omitted or None.  Otherwise\n",
      "    the return value has the same type as the number.  ndigits may be negative.\n",
      "\n"
     ]
    }
   ],
   "source": [
    "# Help can be use to check the documentation of a particular function\n",
    "help(round)"
   ]
  },
  {
   "cell_type": "code",
   "execution_count": 19,
   "id": "77242842-0cc1-4cd3-bddb-002095517fc6",
   "metadata": {},
   "outputs": [
    {
     "name": "stdout",
     "output_type": "stream",
     "text": [
      "[20.0, 18.0, 11.25, 10.75, 9.5]\n"
     ]
    }
   ],
   "source": [
    "# Sorted Function:\n",
    "\n",
    "# Create lists first and second\n",
    "first = [11.25, 18.0, 20.0]\n",
    "second = [10.75, 9.50]\n",
    "\n",
    "# Paste together first and second: full\n",
    "full = first + second\n",
    "\n",
    "# Sort full in descending order: full_sorted\n",
    "full_sorted = sorted(full,reverse=True)\n",
    "\n",
    "# Print out full_sorted\n",
    "print(full_sorted)"
   ]
  },
  {
   "cell_type": "markdown",
   "id": "1b896963-9cd2-4b67-9fc6-f398242ffb93",
   "metadata": {
    "tags": []
   },
   "source": [
    "### Methods\n",
    "Fuctions that belong to python objects.\n",
    "\n",
    "| Object | type | Examples of Methods |\n",
    "| ------ | ---- | ------- |\n",
    "| 1 | str | capitalize() or replace() |  \n",
    "| 2 | float | bit_lenght() or conjugate() |\n",
    "| 3 | list | index() or count() |"
   ]
  },
  {
   "cell_type": "code",
   "execution_count": 33,
   "id": "813813bd-a449-456f-be9c-485605f93c23",
   "metadata": {},
   "outputs": [
    {
     "name": "stdout",
     "output_type": "stream",
     "text": [
      "[20.0, 18.0, 11.25, 10.75, 9.5, 'new']\n",
      "1\n",
      "0\n",
      "[20.0, 18.0, 11.25, 10.75, 9.5, 'new', 'new']\n",
      "[5.0, 18.0, 20.57, 10.75, 9.5]\n",
      "[5.0, 18.0, 20.57, 10.75, 9.5, 24.5, 15.45]\n",
      "[15.45, 24.5, 9.5, 10.75, 20.57, 18.0, 5.0]\n"
     ]
    }
   ],
   "source": [
    "# Example of methods in list \n",
    "\n",
    "# .index() will return the index of an specific element in a list\n",
    "print(full_sorted)\n",
    "print(full_sorted.index(18.0))\n",
    "\n",
    "# .count() will return the number of times an element is present in a list\n",
    "print(full_sorted.count(0))\n",
    "\n",
    "# .append() will add a new element to a list in the last position\n",
    "full_sorted.append('new')\n",
    "print(full_sorted)\n",
    "\n",
    "print(areas)\n",
    "areas.append(24.5)\n",
    "areas.append(15.45)\n",
    "\n",
    "# remove(), that removes the first element of a list that matches the input\n",
    "\n",
    "# reverse(), that reverses the order of the elements in the list it is called on.\n",
    "print(areas)\n",
    "areas.reverse()\n",
    "print(areas)\n",
    "\n",
    "# Note: All the methods for lists can be used on str"
   ]
  },
  {
   "cell_type": "code",
   "execution_count": 32,
   "id": "b92bb795-2338-4029-b65f-4e22f438758d",
   "metadata": {},
   "outputs": [
    {
     "name": "stdout",
     "output_type": "stream",
     "text": [
      "liz\n",
      "Liz\n",
      "lisa\n",
      "LIZ\n"
     ]
    }
   ],
   "source": [
    "# Example of str methods\n",
    "\n",
    "sister = 'liz'\n",
    "print(sister) \n",
    "\n",
    "# .capitalize() will transform the first letter of the string into capital letter. \n",
    "sis1 = sister.capitalize() \n",
    "print(sis1)\n",
    "\n",
    "# .replace() replace some parts of a string with other parts\n",
    "sis2 = sister.replace('z','sa')\n",
    "print(sis2)\n",
    "\n",
    "# Use the upper() method to change all the letter to upper case\n",
    "sis3 = sister.upper()\n",
    "print(sis3)\n",
    "\n"
   ]
  },
  {
   "cell_type": "markdown",
   "id": "fb86a049-3498-4004-9b56-7bc1473e605c",
   "metadata": {},
   "source": [
    "### Packages\n",
    "A directory of python scripts. Each script is called a module and it specifies functions, methods and types. There are a lot of packages available online, the most used for Data Science are: \n",
    "- Numpy: to work with arrays.\n",
    "- Matpltlib: for data visualization.\n",
    "- scikit-learn: for machine learning. \n",
    "\n",
    "To use the different packages they should be installed in our systems. Some IDE and environments have them available but to installed them directly in our local machine the following steps must be followed: \n",
    "1. Follow this [Link](https://pip.pypa.io/en/stable/installation/)\n",
    "2. dowload the get-pip.py file\n",
    "3. In the terminal run the following command: ```python3 get-pip.py```\n",
    "4. Now, we can use pip to install any python package. Example: ```pip3 install numpy```\n",
    "\n",
    "Now that the package is installed, it is usable in our python scripts by importing the whole package or an specific module of it. \n",
    "\n",
    ">To import the whole numpy package for example we will use ``` import numpy as np ```\n",
    ">\n",
    ">To use a function from the numpy package we will call it like this: ```np.array()```\n",
    ">\n",
    "> To import only one module from the numpy package ``` from numpy import array ```"
   ]
  },
  {
   "cell_type": "code",
   "execution_count": 38,
   "id": "7aa55572-0dde-4d4c-b067-89e7b3fdb54c",
   "metadata": {},
   "outputs": [
    {
     "name": "stdout",
     "output_type": "stream",
     "text": [
      "Circumference: 2.701769682087222\n",
      "Area: 0.5808804816487527\n",
      "Distance : 0.09005898940290741\n"
     ]
    }
   ],
   "source": [
    "# Import pi from math package to calculate the circunference and area\n",
    "\n",
    "# Definition of radius\n",
    "r = 0.43\n",
    "\n",
    "# Import the math package\n",
    "from math import pi, radians\n",
    "\n",
    "# Calculate C\n",
    "C = 2*pi*r \n",
    "\n",
    "# Calculate A\n",
    "A = pi*pow(r,2)\n",
    "\n",
    "# Calculate dist\n",
    "dist = r*radians(12)\n",
    "\n",
    "# Build printout\n",
    "print(\"Circumference: \" + str(C))\n",
    "print(\"Area: \" + str(A))\n",
    "print(\"Distance : \" + str(dist))"
   ]
  },
  {
   "cell_type": "markdown",
   "id": "56f00ea8-3791-4bc3-a898-294babbec97d",
   "metadata": {},
   "source": [
    "## Numpy\n",
    "------\n",
    "\n",
    "### Numpy (Numeric Python)\n",
    "NumPy is a fundamental python package. It allows you to create Numpy Arrays to perform operations in lists. Considerations: \n",
    ">- A Numpy Array is a new type of python object so it has it's own methods associated to it\n",
    ">- **All the elements** included in an NumPy Array need to be of the **same type** (int, str, float, bool, etc). This is known as *type coercion*.\n",
    ">- The typical arithmetic operators, such as +, -, * and / have a different meaning for regular Python lists and numpy arrays.\n",
    "\n",
    "To create a Numpy array you need to:\n",
    "\n",
    "1. Import the Numpy package. \n",
    "\n",
    "``` Import numpy as np ```\n",
    "\n",
    "2. The run the .array method.\n",
    "\n",
    "```numpy_array = np.array(x,y,z) ```"
   ]
  },
  {
   "cell_type": "code",
   "execution_count": 3,
   "id": "4bf7f664-24c9-44dc-9c9a-c7fa4fd2ea0c",
   "metadata": {},
   "outputs": [
    {
     "name": "stdout",
     "output_type": "stream",
     "text": [
      "<class 'numpy.ndarray'>\n",
      "[1.8  2.15 2.1  2.1  1.88 1.76 2.09 2.  ]\n"
     ]
    }
   ],
   "source": [
    "# Example Numpy Array\n",
    "\n",
    "# Create list baseball\n",
    "baseball = [180, 215, 210, 210, 188, 176, 209, 200]\n",
    "\n",
    "# Import the numpy package as np\n",
    "import numpy as np\n",
    "\n",
    "# Create a numpy array from baseball: np_baseball\n",
    "np_baseball = np.array(baseball)\n",
    "\n",
    "# Print out type of np_baseball\n",
    "print(type(np_baseball))\n",
    "\n",
    "# Make calculation over the elements of a numpy array\n",
    "np_baseball_meters = np_baseball / 100 \n",
    "print(np_baseball_meters)"
   ]
  },
  {
   "cell_type": "markdown",
   "id": "ea852d83-e750-497f-8fd7-47a20152e890",
   "metadata": {},
   "source": [
    "### Subsetting a numpy array\n",
    "To subset both regular Python lists and numpy arrays, you can use square brackets"
   ]
  },
  {
   "cell_type": "code",
   "execution_count": 8,
   "id": "51cf186f-a769-4827-94d6-83ff8abe8c34",
   "metadata": {},
   "outputs": [
    {
     "name": "stdout",
     "output_type": "stream",
     "text": [
      "9\n",
      "9\n",
      "[9 6]\n",
      "[6, 3]\n"
     ]
    }
   ],
   "source": [
    "# Python List\n",
    "x = [4 , 9 , 6, 3, 1]\n",
    "print(x[1])\n",
    "\n",
    "# Numpy Array\n",
    "import numpy as np\n",
    "y = np.array(x)\n",
    "print(y[1])\n",
    "\n",
    "# For numpy specifically, you can also use boolean numpy arrays\n",
    "high = y > 5\n",
    "print(y[high])\n",
    "\n",
    "# Slicing. (Note: remember that the first index will be included the end index will not be included) \n",
    "print(x[2:4])"
   ]
  },
  {
   "cell_type": "markdown",
   "id": "d000772f-5692-42b9-8168-857be13ed08c",
   "metadata": {},
   "source": [
    "### 2D Numpy Arrays"
   ]
  },
  {
   "cell_type": "code",
   "execution_count": null,
   "id": "797c5b81-3a26-4b59-a546-e3b80735299f",
   "metadata": {},
   "outputs": [],
   "source": [
    "# Create baseball, a list of lists\n",
    "baseball = [[180, 78.4],\n",
    "            [215, 102.7],\n",
    "            [210, 98.5],\n",
    "            [188, 75.2]]\n",
    "\n",
    "# Import numpy\n",
    "import numpy as np\n",
    "\n",
    "# Create a 2D numpy array from baseball: np_baseball\n",
    "np_baseball = np.array([[180, 78.4],[215, 102.7],[210, 98.5],[188, 75.2]])\n",
    "np_baseball = np.array(baseball)\n",
    "\n",
    "# Print out the type of np_baseball\n",
    "print(type(np_baseball))\n",
    "\n",
    "# Print out the shape of np_baseball \n",
    "print(np_baseball.shape)\n",
    "# (Note: shape gives extra information on the arrays. Shape is an attribute. Attributes are different from methods) "
   ]
  },
  {
   "cell_type": "markdown",
   "id": "c2d804aa-53d6-4e1c-9d3d-979b9f91ed2d",
   "metadata": {},
   "source": [
    "#### Subsetting 2D NumPy Arrays"
   ]
  },
  {
   "cell_type": "code",
   "execution_count": null,
   "id": "a15d024b-27cb-4f81-befa-47309dfa3bf1",
   "metadata": {},
   "outputs": [],
   "source": [
    "# regular list of lists\n",
    "x = [[\"a\", \"b\"], [\"c\", \"d\"]]\n",
    "[x[0][0], x[1][0]]\n",
    "\n",
    "# numpy\n",
    "import numpy as np\n",
    "np_x = np.array(x)\n",
    "np_x[:, 0]"
   ]
  },
  {
   "cell_type": "markdown",
   "id": "30d22882-07f2-4076-8137-74d4b8cd3763",
   "metadata": {},
   "source": [
    "The indexes before the comma refer to the rows, while those after the comma refer to the columns. The : is for slicing; in this example, it tells Python to include all rows."
   ]
  },
  {
   "cell_type": "markdown",
   "id": "38cd6721-1d2c-4961-a219-f369a50fff6b",
   "metadata": {},
   "source": [
    "#### 2D Arithmetic"
   ]
  },
  {
   "cell_type": "code",
   "execution_count": 2,
   "id": "bb94b1f4-9373-40db-bd1e-440a43167f25",
   "metadata": {},
   "outputs": [
    {
     "name": "stdout",
     "output_type": "stream",
     "text": [
      "[[ 2  4]\n",
      " [ 6  8]\n",
      " [10 12]]\n",
      "[[11  7]\n",
      " [13  9]\n",
      " [15 11]]\n",
      "[[ 2  4]\n",
      " [ 6  8]\n",
      " [10 12]]\n"
     ]
    }
   ],
   "source": [
    "import numpy as np\n",
    "\n",
    "np_mat = np.array([[1, 2],\n",
    "                   [3, 4],\n",
    "                   [5, 6]])\n",
    "\n",
    "# To multiply all the element in an array by a number\n",
    "print(np_mat * 2)\n",
    "\n",
    "# The following code with add 10 to all elements in the fisrt column and 5 to all elements in second \n",
    "print(np_mat + np.array([10, 5]))\n",
    "\n",
    "# to add 2 arrays\n",
    "print(np_mat + np_mat)"
   ]
  },
  {
   "cell_type": "markdown",
   "id": "d199d5f3-02ae-4b5f-8089-286125aa6997",
   "metadata": {},
   "source": [
    "### NumPy: Basic Statistics"
   ]
  },
  {
   "cell_type": "code",
   "execution_count": 3,
   "id": "1783b828-68c4-4c5e-b621-ef99aaee2f8b",
   "metadata": {},
   "outputs": [
    {
     "name": "stdout",
     "output_type": "stream",
     "text": [
      "7.0\n",
      "8.0\n",
      "4.0\n"
     ]
    }
   ],
   "source": [
    "import numpy as np\n",
    "\n",
    "x = [1, 4, 8, 10, 12]\n",
    "\n",
    "# Calculate the mean np.mean()\n",
    "print(np.mean(x))\n",
    "\n",
    "# Calculate the median np.median()\n",
    "print(np.median(x))\n",
    "\n",
    "# Calculate the correlation np.corrcoef() \n",
    "\n",
    "# Calculate the standard deviation np.std()\n",
    "print(np.std(x))"
   ]
  }
 ],
 "metadata": {
  "kernelspec": {
   "display_name": "Python 3 (ipykernel)",
   "language": "python",
   "name": "python3"
  },
  "language_info": {
   "codemirror_mode": {
    "name": "ipython",
    "version": 3
   },
   "file_extension": ".py",
   "mimetype": "text/x-python",
   "name": "python",
   "nbconvert_exporter": "python",
   "pygments_lexer": "ipython3",
   "version": "3.9.12"
  }
 },
 "nbformat": 4,
 "nbformat_minor": 5
}
